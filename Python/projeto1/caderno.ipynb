{
 "cells": [
  {
   "cell_type": "code",
   "execution_count": null,
   "metadata": {},
   "outputs": [
    {
     "ename": "",
     "evalue": "",
     "output_type": "error",
     "traceback": [
      "\u001b[1;31mA execução de células com \"Python 3.10.6 ('venv': venv)\" requer o pacote ipykernel.\n",
      "\u001b[1;31mExecute o seguinte comando para instalar \"ipykernel\" no ambiente do Python. \n",
      "\u001b[1;31mComando: \"\"c:/Users/F8367123/OneDrive - Banco do Brasil S.A/Documentos/AulasAlura/TodasAsAulas/AulasAlura/Python/projeto1/venv/Scripts/python.exe\" -m pip install ipykernel -U --force-reinstall\""
     ]
    }
   ],
   "source": [
    "from random import randrange\n",
    "\n"
   ]
  }
 ],
 "metadata": {
  "kernelspec": {
   "display_name": "Python 3.10.6 ('venv': venv)",
   "language": "python",
   "name": "python3"
  },
  "language_info": {
   "name": "python",
   "version": "3.10.6"
  },
  "orig_nbformat": 4,
  "vscode": {
   "interpreter": {
    "hash": "74db7ee3948c507c80f743308c2febfe7262642c2ea0a4fde91dc5628f9a637f"
   }
  }
 },
 "nbformat": 4,
 "nbformat_minor": 2
}
